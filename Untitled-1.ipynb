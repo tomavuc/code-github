{
 "cells": [
  {
   "cell_type": "markdown",
   "metadata": {},
   "source": [
    "# Notebook"
   ]
  },
  {
   "cell_type": "markdown",
   "metadata": {},
   "source": [
    "Toma Vučinić (student number: 5748070)"
   ]
  },
  {
   "cell_type": "markdown",
   "metadata": {},
   "source": [
    "## The projected pipeline\n",
    "The projected pipeline is the following: collect the data about proteins -> make them into features. Once the features our extracted -> load and inspect the data, preprocess it (normalization, composite features, dimensionality reduction with PCA). With the data supervised data in check, we can select our models, train, hyperparameter tune and evaluate them (nested CV)."
   ]
  },
  {
   "cell_type": "code",
   "execution_count": null,
   "metadata": {},
   "outputs": [],
   "source": [
    "#features['ec_number'] = record.annotations.get('ec_number', [None])[0]\n",
    "    #features['gene'] = record.features[0].qualifiers.get('gene', [None])[0] if record.features else None\n",
    "    #features['product'] = record.features[0].qualifiers.get('product', [None])[0] if record.features else None\n",
    "    \n",
    "    # Iron-sulfur cluster motifs (common patterns)\n",
    "    # motifs = {\n",
    "    #     'fe_s_2fe2s': re.compile(r'C.{2}C.{3}C'),\n",
    "    #     'fe_s_4fe4s': re.compile(r'C.{3}C.{3}C'),\n",
    "    #     'ferredoxin': re.compile(r'C.{2,4}C.{2,4}C.{2,4}C')\n",
    "    # }\n",
    "    # for name, pattern in motifs.items():\n",
    "    #     features[f'motif_{name}'] = bool(pattern.search(seq))\n",
    "    \n",
    "    # Database cross-references\n",
    "    # features['has_alphafold'] = 'AlphaFoldDB' in record.dbxrefs\n",
    "    # features['is_metalloprotein'] = any('metal' in kw.lower() for kw in record.annotations.get('keywords', []))\n",
    "\n",
    "#for record in records:\n",
    "    #print(f\"Accession: {record.id}\")\n",
    "    #print(f\"Description: {record.description}\")\n",
    "    #print(f\"Organism: {record.annotations.get('organism', 'N/A')}\")\n",
    "    #print(f\"Sequence length: {len(record.seq)}\")\n",
    "    #print(f\"Sequence: {record.seq}\")\n",
    "\n",
    "    #for key, value in record.annotations.items():\n",
    "        #print(f\"{key}: {value}\")\n",
    "\n",
    "    #for feature in record.features:\n",
    "        #if feature.type == \"Region\":\n",
    "            #region_name = feature.qualifiers.get(\"region_name\", [\"N/A\"])[0]\n",
    "            #print(f\"Region: {region_name}, Location: {feature.location}\")\n"
   ]
  },
  {
   "cell_type": "code",
   "execution_count": null,
   "metadata": {},
   "outputs": [],
   "source": []
  }
 ],
 "metadata": {
  "language_info": {
   "name": "python"
  }
 },
 "nbformat": 4,
 "nbformat_minor": 2
}
